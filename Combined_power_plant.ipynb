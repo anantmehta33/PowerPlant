{
  "nbformat": 4,
  "nbformat_minor": 0,
  "metadata": {
    "colab": {
      "name": "Combined_power_plant.ipynb",
      "provenance": [],
      "authorship_tag": "ABX9TyO7oLdQ2xKrN1Ycptlf1870",
      "include_colab_link": true
    },
    "kernelspec": {
      "name": "python3",
      "display_name": "Python 3"
    },
    "language_info": {
      "name": "python"
    }
  },
  "cells": [
    {
      "cell_type": "markdown",
      "metadata": {
        "id": "view-in-github",
        "colab_type": "text"
      },
      "source": [
        "<a href=\"https://colab.research.google.com/github/anantmehta33/PowerPlant/blob/main/Combined_power_plant.ipynb\" target=\"_parent\"><img src=\"https://colab.research.google.com/assets/colab-badge.svg\" alt=\"Open In Colab\"/></a>"
      ]
    },
    {
      "cell_type": "markdown",
      "source": [
        "A combined-cycle power plant is an electrical power plant in which a Gas Turbine (GT) and a Steam Turbine (ST) are used in combination to produce more electrical energy from the same fuel than that would be possible from a single cycle power plant.\n",
        "\n",
        "The gas turbine compresses air and mixes it with a fuel heated to a very high temperature. The hot air-fuel mixture moves through the blades, making them spin. The fast-spinning gas turbine drives a generator to generate electricity. The exhaust (waste) heat escaped through the exhaust stack of the gas turbine is utilized by a Heat Recovery Steam Generator (HSRG) system to produce steam that spins a steam turbine. This steam turbine drives a generator to produce additional electricity. CCCP is assumed to produce 50% more energy than a single power plant.\n",
        "\n",
        "\n",
        "\n",
        "The objective is to create a data model that predicts the net hourly electrical energy output (EP) of the plant using available hourly average ambient variables."
      ],
      "metadata": {
        "id": "qrZXCTsL3ZAM"
      }
    },
    {
      "cell_type": "code",
      "execution_count": null,
      "metadata": {
        "id": "Mev3jjwqdILq"
      },
      "outputs": [],
      "source": [
        "import numpy as np\n",
        "import pandas as pd\n",
        "import tensorflow as tf\n"
      ]
    },
    {
      "cell_type": "code",
      "source": [
        "tf.__version__#tensorflow 2.0"
      ],
      "metadata": {
        "colab": {
          "base_uri": "https://localhost:8080/",
          "height": 35
        },
        "id": "hyOyOoMqjvT6",
        "outputId": "d1b1e52f-91b5-4224-cb49-f86488d37497"
      },
      "execution_count": null,
      "outputs": [
        {
          "output_type": "execute_result",
          "data": {
            "application/vnd.google.colaboratory.intrinsic+json": {
              "type": "string"
            },
            "text/plain": [
              "'2.7.0'"
            ]
          },
          "metadata": {},
          "execution_count": 27
        }
      ]
    },
    {
      "cell_type": "markdown",
      "source": [
        "Data preprocessing"
      ],
      "metadata": {
        "id": "NBHlxNMFj6m8"
      }
    },
    {
      "cell_type": "code",
      "source": [
        "data=pd.read_excel('dataset.xlsx')\n",
        "print(data.shape)"
      ],
      "metadata": {
        "colab": {
          "base_uri": "https://localhost:8080/"
        },
        "id": "o1_h2-XJj31G",
        "outputId": "1218f4de-177e-495d-92f9-011dcb03435b"
      },
      "execution_count": null,
      "outputs": [
        {
          "output_type": "stream",
          "name": "stdout",
          "text": [
            "(9568, 5)\n"
          ]
        }
      ]
    },
    {
      "cell_type": "code",
      "source": [
        "X=data.iloc[:,:-1].values\n",
        "Y=data.iloc[:,-1].values\n",
        "print(Y)"
      ],
      "metadata": {
        "colab": {
          "base_uri": "https://localhost:8080/"
        },
        "id": "-DzUIS5FkWoO",
        "outputId": "89bab585-4bbc-4b41-c619-5b3b1c8c9798"
      },
      "execution_count": null,
      "outputs": [
        {
          "output_type": "stream",
          "name": "stdout",
          "text": [
            "[463.26 444.37 488.56 ... 429.57 435.74 453.28]\n"
          ]
        }
      ]
    },
    {
      "cell_type": "markdown",
      "source": [
        "splitting data "
      ],
      "metadata": {
        "id": "rP2qmLTZlicZ"
      }
    },
    {
      "cell_type": "code",
      "source": [
        "from sklearn.model_selection import train_test_split\n",
        "X_train,X_test,Y_train,Y_test=train_test_split(X,Y,test_size=0.2,random_state=0)"
      ],
      "metadata": {
        "id": "Sb8S8vDOk8Tb"
      },
      "execution_count": null,
      "outputs": []
    },
    {
      "cell_type": "markdown",
      "source": [
        "building the neural network"
      ],
      "metadata": {
        "id": "3hqrNT_foMbr"
      }
    },
    {
      "cell_type": "code",
      "source": [
        "from sklearn.preprocessing import StandardScaler\n",
        "sc = StandardScaler()\n",
        "X_train = sc.fit_transform(X_train)\n",
        "X_test = sc.transform(X_test)"
      ],
      "metadata": {
        "id": "LTA-IchDnwka"
      },
      "execution_count": null,
      "outputs": []
    },
    {
      "cell_type": "code",
      "source": [
        "ann = tf.keras.models.Sequential()\n",
        "ann.add(tf.keras.layers.Dense(units=10,activation='relu'))\n",
        "ann.add(tf.keras.layers.Dense(units=10,activation='relu'))\n",
        "ann.add(tf.keras.layers.Dense(units=1,))# for regression we need no act func as linearity is needed"
      ],
      "metadata": {
        "id": "yYCEXw7Foer4"
      },
      "execution_count": null,
      "outputs": []
    },
    {
      "cell_type": "markdown",
      "source": [
        "Training and Compiling ANN"
      ],
      "metadata": {
        "id": "pqrUJzTssEnd"
      }
    },
    {
      "cell_type": "code",
      "source": [
        "ann.compile(optimizer = 'adam', loss = 'mean_squared_error')\n",
        "ann.fit(X_train, Y_train, batch_size = 32, epochs = 100)#training model on training set\n",
        "#reducing loss epoch by epoch "
      ],
      "metadata": {
        "colab": {
          "base_uri": "https://localhost:8080/"
        },
        "id": "F3QwkAxrp5_0",
        "outputId": "96eec2de-d668-43d5-f1c1-3cd9d48dfb45"
      },
      "execution_count": null,
      "outputs": [
        {
          "output_type": "stream",
          "name": "stdout",
          "text": [
            "Epoch 1/100\n",
            "240/240 [==============================] - 1s 2ms/step - loss: 204668.3281\n",
            "Epoch 2/100\n",
            "240/240 [==============================] - 0s 2ms/step - loss: 182912.0625\n",
            "Epoch 3/100\n",
            "240/240 [==============================] - 0s 2ms/step - loss: 114451.7656\n",
            "Epoch 4/100\n",
            "240/240 [==============================] - 0s 2ms/step - loss: 44771.0391\n",
            "Epoch 5/100\n",
            "240/240 [==============================] - 0s 1ms/step - loss: 21639.4355\n",
            "Epoch 6/100\n",
            "240/240 [==============================] - 0s 2ms/step - loss: 16043.7881\n",
            "Epoch 7/100\n",
            "240/240 [==============================] - 0s 1ms/step - loss: 11748.0566\n",
            "Epoch 8/100\n",
            "240/240 [==============================] - 0s 1ms/step - loss: 7924.3931\n",
            "Epoch 9/100\n",
            "240/240 [==============================] - 0s 2ms/step - loss: 4811.2373\n",
            "Epoch 10/100\n",
            "240/240 [==============================] - 0s 1ms/step - loss: 2644.0679\n",
            "Epoch 11/100\n",
            "240/240 [==============================] - 0s 1ms/step - loss: 1354.4465\n",
            "Epoch 12/100\n",
            "240/240 [==============================] - 0s 1ms/step - loss: 680.1783\n",
            "Epoch 13/100\n",
            "240/240 [==============================] - 1s 2ms/step - loss: 362.7088\n",
            "Epoch 14/100\n",
            "240/240 [==============================] - 1s 3ms/step - loss: 219.2960\n",
            "Epoch 15/100\n",
            "240/240 [==============================] - 1s 3ms/step - loss: 152.1213\n",
            "Epoch 16/100\n",
            "240/240 [==============================] - 1s 3ms/step - loss: 117.7088\n",
            "Epoch 17/100\n",
            "240/240 [==============================] - 1s 5ms/step - loss: 98.0529\n",
            "Epoch 18/100\n",
            "240/240 [==============================] - 1s 3ms/step - loss: 84.6327\n",
            "Epoch 19/100\n",
            "240/240 [==============================] - 1s 3ms/step - loss: 74.1473\n",
            "Epoch 20/100\n",
            "240/240 [==============================] - 1s 3ms/step - loss: 65.7008\n",
            "Epoch 21/100\n",
            "240/240 [==============================] - 1s 2ms/step - loss: 58.5706\n",
            "Epoch 22/100\n",
            "240/240 [==============================] - 1s 3ms/step - loss: 52.7795\n",
            "Epoch 23/100\n",
            "240/240 [==============================] - 1s 3ms/step - loss: 47.5667\n",
            "Epoch 24/100\n",
            "240/240 [==============================] - 1s 3ms/step - loss: 43.1817\n",
            "Epoch 25/100\n",
            "240/240 [==============================] - 1s 3ms/step - loss: 39.2342\n",
            "Epoch 26/100\n",
            "240/240 [==============================] - 1s 3ms/step - loss: 35.9021\n",
            "Epoch 27/100\n",
            "240/240 [==============================] - 1s 4ms/step - loss: 33.0925\n",
            "Epoch 28/100\n",
            "240/240 [==============================] - 1s 4ms/step - loss: 30.7448\n",
            "Epoch 29/100\n",
            "240/240 [==============================] - 1s 4ms/step - loss: 28.5094\n",
            "Epoch 30/100\n",
            "240/240 [==============================] - 1s 4ms/step - loss: 26.9456\n",
            "Epoch 31/100\n",
            "240/240 [==============================] - 0s 2ms/step - loss: 25.4511\n",
            "Epoch 32/100\n",
            "240/240 [==============================] - 0s 2ms/step - loss: 24.2447\n",
            "Epoch 33/100\n",
            "240/240 [==============================] - 0s 1ms/step - loss: 23.4601\n",
            "Epoch 34/100\n",
            "240/240 [==============================] - 0s 2ms/step - loss: 22.8510\n",
            "Epoch 35/100\n",
            "240/240 [==============================] - 0s 1ms/step - loss: 22.4811\n",
            "Epoch 36/100\n",
            "240/240 [==============================] - 0s 1ms/step - loss: 22.0933\n",
            "Epoch 37/100\n",
            "240/240 [==============================] - 0s 1ms/step - loss: 21.8011\n",
            "Epoch 38/100\n",
            "240/240 [==============================] - 0s 1ms/step - loss: 21.5204\n",
            "Epoch 39/100\n",
            "240/240 [==============================] - 0s 2ms/step - loss: 21.3120\n",
            "Epoch 40/100\n",
            "240/240 [==============================] - 0s 1ms/step - loss: 21.2980\n",
            "Epoch 41/100\n",
            "240/240 [==============================] - 0s 1ms/step - loss: 21.1629\n",
            "Epoch 42/100\n",
            "240/240 [==============================] - 0s 2ms/step - loss: 21.1668\n",
            "Epoch 43/100\n",
            "240/240 [==============================] - 0s 1ms/step - loss: 21.0005\n",
            "Epoch 44/100\n",
            "240/240 [==============================] - 0s 2ms/step - loss: 21.0675\n",
            "Epoch 45/100\n",
            "240/240 [==============================] - 0s 2ms/step - loss: 21.0620\n",
            "Epoch 46/100\n",
            "240/240 [==============================] - 0s 1ms/step - loss: 21.0220\n",
            "Epoch 47/100\n",
            "240/240 [==============================] - 0s 1ms/step - loss: 20.9416\n",
            "Epoch 48/100\n",
            "240/240 [==============================] - 0s 2ms/step - loss: 20.7819\n",
            "Epoch 49/100\n",
            "240/240 [==============================] - 0s 1ms/step - loss: 20.9491\n",
            "Epoch 50/100\n",
            "240/240 [==============================] - 0s 2ms/step - loss: 20.8549\n",
            "Epoch 51/100\n",
            "240/240 [==============================] - 0s 2ms/step - loss: 21.0176\n",
            "Epoch 52/100\n",
            "240/240 [==============================] - 0s 1ms/step - loss: 20.8732\n",
            "Epoch 53/100\n",
            "240/240 [==============================] - 0s 2ms/step - loss: 20.6505\n",
            "Epoch 54/100\n",
            "240/240 [==============================] - 0s 1ms/step - loss: 20.8310\n",
            "Epoch 55/100\n",
            "240/240 [==============================] - 0s 2ms/step - loss: 20.8410\n",
            "Epoch 56/100\n",
            "240/240 [==============================] - 0s 2ms/step - loss: 20.7044\n",
            "Epoch 57/100\n",
            "240/240 [==============================] - 0s 2ms/step - loss: 20.7032\n",
            "Epoch 58/100\n",
            "240/240 [==============================] - 0s 1ms/step - loss: 20.7180\n",
            "Epoch 59/100\n",
            "240/240 [==============================] - 0s 2ms/step - loss: 20.5641\n",
            "Epoch 60/100\n",
            "240/240 [==============================] - 0s 1ms/step - loss: 20.6540\n",
            "Epoch 61/100\n",
            "240/240 [==============================] - 0s 2ms/step - loss: 20.7332\n",
            "Epoch 62/100\n",
            "240/240 [==============================] - 0s 1ms/step - loss: 20.6435\n",
            "Epoch 63/100\n",
            "240/240 [==============================] - 0s 1ms/step - loss: 20.7930\n",
            "Epoch 64/100\n",
            "240/240 [==============================] - 0s 1ms/step - loss: 20.5329\n",
            "Epoch 65/100\n",
            "240/240 [==============================] - 0s 1ms/step - loss: 20.9142\n",
            "Epoch 66/100\n",
            "240/240 [==============================] - 0s 2ms/step - loss: 20.5723\n",
            "Epoch 67/100\n",
            "240/240 [==============================] - 0s 2ms/step - loss: 20.7045\n",
            "Epoch 68/100\n",
            "240/240 [==============================] - 0s 2ms/step - loss: 20.6101\n",
            "Epoch 69/100\n",
            "240/240 [==============================] - 0s 1ms/step - loss: 20.4427\n",
            "Epoch 70/100\n",
            "240/240 [==============================] - 0s 2ms/step - loss: 20.4921\n",
            "Epoch 71/100\n",
            "240/240 [==============================] - 0s 2ms/step - loss: 20.6657\n",
            "Epoch 72/100\n",
            "240/240 [==============================] - 0s 1ms/step - loss: 20.6132\n",
            "Epoch 73/100\n",
            "240/240 [==============================] - 0s 2ms/step - loss: 20.5086\n",
            "Epoch 74/100\n",
            "240/240 [==============================] - 0s 1ms/step - loss: 20.7348\n",
            "Epoch 75/100\n",
            "240/240 [==============================] - 0s 1ms/step - loss: 20.5484\n",
            "Epoch 76/100\n",
            "240/240 [==============================] - 0s 1ms/step - loss: 20.4615\n",
            "Epoch 77/100\n",
            "240/240 [==============================] - 0s 1ms/step - loss: 20.4738\n",
            "Epoch 78/100\n",
            "240/240 [==============================] - 0s 2ms/step - loss: 20.4531\n",
            "Epoch 79/100\n",
            "240/240 [==============================] - 0s 1ms/step - loss: 20.4519\n",
            "Epoch 80/100\n",
            "240/240 [==============================] - 0s 1ms/step - loss: 20.6202\n",
            "Epoch 81/100\n",
            "240/240 [==============================] - 0s 2ms/step - loss: 20.5325\n",
            "Epoch 82/100\n",
            "240/240 [==============================] - 0s 2ms/step - loss: 20.3074\n",
            "Epoch 83/100\n",
            "240/240 [==============================] - 0s 2ms/step - loss: 20.3148\n",
            "Epoch 84/100\n",
            "240/240 [==============================] - 0s 2ms/step - loss: 20.2826\n",
            "Epoch 85/100\n",
            "240/240 [==============================] - 0s 2ms/step - loss: 20.2279\n",
            "Epoch 86/100\n",
            "240/240 [==============================] - 0s 2ms/step - loss: 20.3025\n",
            "Epoch 87/100\n",
            "240/240 [==============================] - 0s 1ms/step - loss: 20.2832\n",
            "Epoch 88/100\n",
            "240/240 [==============================] - 0s 1ms/step - loss: 20.4049\n",
            "Epoch 89/100\n",
            "240/240 [==============================] - 0s 2ms/step - loss: 20.3452\n",
            "Epoch 90/100\n",
            "240/240 [==============================] - 0s 2ms/step - loss: 20.2549\n",
            "Epoch 91/100\n",
            "240/240 [==============================] - 0s 1ms/step - loss: 20.2482\n",
            "Epoch 92/100\n",
            "240/240 [==============================] - 0s 2ms/step - loss: 20.2571\n",
            "Epoch 93/100\n",
            "240/240 [==============================] - 0s 1ms/step - loss: 20.4181\n",
            "Epoch 94/100\n",
            "240/240 [==============================] - 0s 1ms/step - loss: 20.3019\n",
            "Epoch 95/100\n",
            "240/240 [==============================] - 0s 2ms/step - loss: 20.1950\n",
            "Epoch 96/100\n",
            "240/240 [==============================] - 0s 2ms/step - loss: 20.3043\n",
            "Epoch 97/100\n",
            "240/240 [==============================] - 0s 1ms/step - loss: 20.2112\n",
            "Epoch 98/100\n",
            "240/240 [==============================] - 0s 2ms/step - loss: 20.1110\n",
            "Epoch 99/100\n",
            "240/240 [==============================] - 0s 1ms/step - loss: 20.2899\n",
            "Epoch 100/100\n",
            "240/240 [==============================] - 0s 2ms/step - loss: 20.2021\n"
          ]
        },
        {
          "output_type": "execute_result",
          "data": {
            "text/plain": [
              "<keras.callbacks.History at 0x7f1a14cad850>"
            ]
          },
          "metadata": {},
          "execution_count": 33
        }
      ]
    },
    {
      "cell_type": "markdown",
      "source": [
        "predicting results"
      ],
      "metadata": {
        "id": "uDHM6rSs2xKp"
      }
    },
    {
      "cell_type": "code",
      "source": [
        "Y_answer=ann.predict(X_test)#y_answer has the pred to Y_test\n",
        "np.set_printoptions(precision=2)"
      ],
      "metadata": {
        "id": "E0nTbjI12vR3"
      },
      "execution_count": null,
      "outputs": []
    },
    {
      "cell_type": "markdown",
      "source": [
        "Y_answer vs Y_test"
      ],
      "metadata": {
        "id": "LMKMGJMsHCCh"
      }
    },
    {
      "cell_type": "code",
      "source": [
        "Y_answer.reshape(-1,1)\n",
        "print(Y_answer)#predicted"
      ],
      "metadata": {
        "colab": {
          "base_uri": "https://localhost:8080/"
        },
        "id": "3NHHNp9iHGtT",
        "outputId": "7885f9a4-26af-42f9-d6cd-305ea21fd86b"
      },
      "execution_count": null,
      "outputs": [
        {
          "output_type": "stream",
          "name": "stdout",
          "text": [
            "[[436.88]\n",
            " [458.06]\n",
            " [462.58]\n",
            " ...\n",
            " [469.21]\n",
            " [441.83]\n",
            " [461.72]]\n"
          ]
        }
      ]
    },
    {
      "cell_type": "code",
      "source": [
        "print(Y_test)#real"
      ],
      "metadata": {
        "colab": {
          "base_uri": "https://localhost:8080/"
        },
        "id": "xrP29t_nHmOY",
        "outputId": "0085606c-7d0b-4092-9c2b-3a3f13244846"
      },
      "execution_count": null,
      "outputs": [
        {
          "output_type": "stream",
          "name": "stdout",
          "text": [
            "[431.23 460.01 461.14 ... 473.26 438.   463.28]\n"
          ]
        }
      ]
    }
  ]
}